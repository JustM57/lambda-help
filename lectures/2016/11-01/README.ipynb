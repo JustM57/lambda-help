{
 "cells": [
  {
   "cell_type": "markdown",
   "metadata": {
    "slideshow": {
     "slide_type": "slide"
    }
   },
   "source": [
    "![](pics/presentation.png)"
   ]
  },
  {
   "cell_type": "markdown",
   "metadata": {
    "slideshow": {
     "slide_type": "slide"
    }
   },
   "source": [
    "# Python - немного истории"
   ]
  },
  {
   "cell_type": "markdown",
   "metadata": {
    "slideshow": {
     "slide_type": "subslide"
    }
   },
   "source": [
    "## Гвидо Ван Россум\n",
    "\n",
    "![](https://upload.wikimedia.org/wikipedia/commons/thumb/d/da/Guido-portrait-2014.jpg/640px-Guido-portrait-2014.jpg)\n",
    "\n",
    "> Over six years ago, in December 1989, I was looking for a \"hobby\" programming project that would keep me occupied during the week around Christmas. My office ... would be closed, but I had a home computer, and not much else on my hands. I decided to write an interpreter for the new scripting language I had been thinking about lately...\n"
   ]
  },
  {
   "cell_type": "markdown",
   "metadata": {
    "slideshow": {
     "slide_type": "subslide"
    }
   },
   "source": [
    "## Идейный вдохновитель - ABC\n",
    "\n",
    "```\n",
    "HOW TO RETURN words document:\n",
    "   PUT {} IN collection\n",
    "   FOR line IN document:\n",
    "      FOR word IN split line:\n",
    "         IF word not.in collection:\n",
    "            INSERT word IN collection\n",
    "   RETURN collection\n",
    "```"
   ]
  },
  {
   "cell_type": "markdown",
   "metadata": {
    "slideshow": {
     "slide_type": "subslide"
    }
   },
   "source": [
    "## Цель\n",
    "\n",
    "- создать простой, понятный, удобный и полезный язык\n",
    "- пример функции:\n",
    "```python\n",
    "def magic(dir):\n",
    "    arc = []\n",
    "    for root, dirs, files in os.walk(dir):\n",
    "        acc.extend(os.path.join(root, file) for file in files)\n",
    "    return acc\n",
    "```\n",
    "- что делает эта функция?"
   ]
  },
  {
   "cell_type": "markdown",
   "metadata": {
    "slideshow": {
     "slide_type": "subslide"
    }
   },
   "source": [
    "## 2.x VS 3.x\n",
    "\n",
    "- Python 2.x находится в режиме поддержки, обновлений выходить не будет\n",
    "    - достоинства\n",
    "        - штабильно\n",
    "        - громадное количество библиотек\n",
    "        - `print \"hello world\"`\n",
    "    - недостатки\n",
    "        - содержит много костылей, исправить которые, не нарушив работу системы нельзя\n",
    "        - строки и символы изначально кодируются в байткод\n",
    "\n",
    "- Python 3.x - в режиме активной разработки\n",
    "    - достоинства\n",
    "        - все строки ялвяются Unicode объектами\n",
    "        - упрощены некоторые конструкции методов\n",
    "        - бОльшая часть элементов языка стала объектами (например, `map` по версии 2.x - `list`, по версии 3.x - `map object`)\n",
    "    - недостатки\n",
    "        - не все библиотеки портированы с 2.x\n",
    "\n",
    "В наших проектах будем использовать Python 3.x, для упрощения процедуры поддержки кода"
   ]
  },
  {
   "cell_type": "markdown",
   "metadata": {
    "slideshow": {
     "slide_type": "subslide"
    }
   },
   "source": [
    "## _Let the Holywar begin!_\n",
    "\n",
    "![](http://evadeflow.com/wp-content/uploads/2011/03/TabsSpacesBoth.png)"
   ]
  },
  {
   "cell_type": "markdown",
   "metadata": {
    "slideshow": {
     "slide_type": "slide"
    }
   },
   "source": [
    "# Ввод/вывод"
   ]
  },
  {
   "cell_type": "code",
   "execution_count": 7,
   "metadata": {
    "collapsed": false,
    "slideshow": {
     "slide_type": "fragment"
    }
   },
   "outputs": [
    {
     "name": "stdout",
     "output_type": "stream",
     "text": [
      "42\n",
      "42\n"
     ]
    }
   ],
   "source": [
    "my_variable = input() # ввод данных с клавиатуры (или через стандартный ввод stdin)\n",
    "\n",
    "print(my_variable) # вывод данных в стандартный вывод stdout"
   ]
  },
  {
   "cell_type": "markdown",
   "metadata": {
    "slideshow": {
     "slide_type": "slide"
    }
   },
   "source": [
    "# Мотан"
   ]
  },
  {
   "cell_type": "markdown",
   "metadata": {
    "slideshow": {
     "slide_type": "slide"
    }
   },
   "source": [
    "# Логика"
   ]
  },
  {
   "cell_type": "code",
   "execution_count": 6,
   "metadata": {
    "collapsed": false,
    "slideshow": {
     "slide_type": "fragment"
    }
   },
   "outputs": [
    {
     "name": "stdout",
     "output_type": "stream",
     "text": [
      "True\n",
      "False\n",
      "False\n"
     ]
    }
   ],
   "source": [
    "print(5 == 5)\n",
    "\n",
    "print(5 is 3)\n",
    "\n",
    "print((5 == 5) and (5 is 3))"
   ]
  },
  {
   "cell_type": "markdown",
   "metadata": {
    "slideshow": {
     "slide_type": "slide"
    }
   },
   "source": [
    "# Строки"
   ]
  },
  {
   "cell_type": "markdown",
   "metadata": {
    "slideshow": {
     "slide_type": "slide"
    }
   },
   "source": [
    "# Условные операторы"
   ]
  },
  {
   "cell_type": "markdown",
   "metadata": {
    "slideshow": {
     "slide_type": "slide"
    }
   },
   "source": [
    "# Циклы"
   ]
  },
  {
   "cell_type": "markdown",
   "metadata": {
    "slideshow": {
     "slide_type": "subslide"
    }
   },
   "source": [
    "## While"
   ]
  },
  {
   "cell_type": "markdown",
   "metadata": {
    "slideshow": {
     "slide_type": "subslide"
    }
   },
   "source": [
    "## For"
   ]
  }
 ],
 "metadata": {
  "celltoolbar": "Slideshow",
  "kernelspec": {
   "display_name": "Python 3",
   "language": "python",
   "name": "python3"
  },
  "language_info": {
   "codemirror_mode": {
    "name": "ipython",
    "version": 3
   },
   "file_extension": ".py",
   "mimetype": "text/x-python",
   "name": "python",
   "nbconvert_exporter": "python",
   "pygments_lexer": "ipython3",
   "version": "3.5.1"
  }
 },
 "nbformat": 4,
 "nbformat_minor": 0
}
